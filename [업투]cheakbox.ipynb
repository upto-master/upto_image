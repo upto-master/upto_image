{
  "cells": [
    {
      "cell_type": "markdown",
      "metadata": {
        "id": "view-in-github",
        "colab_type": "text"
      },
      "source": [
        "<a href=\"https://colab.research.google.com/github/upto-master/upto_image/blob/upto_color_jisu/%5B%EC%97%85%ED%88%AC%5Dcheakbox.ipynb\" target=\"_parent\"><img src=\"https://colab.research.google.com/assets/colab-badge.svg\" alt=\"Open In Colab\"/></a>"
      ]
    },
    {
      "cell_type": "code",
      "execution_count": null,
      "id": "22d87500",
      "metadata": {
        "id": "22d87500"
      },
      "outputs": [],
      "source": [
        "from PIL import Image\n",
        "from PIL import ImageDraw\n",
        "import os\n",
        "import cv2\n",
        "import matplotlib.pyplot as plt\n",
        "%matplotlib inline\n",
        "import numpy as np\n",
        "import shutil"
      ]
    },
    {
      "cell_type": "code",
      "execution_count": null,
      "id": "170e2e72",
      "metadata": {
        "id": "170e2e72"
      },
      "outputs": [],
      "source": [
        "all_images = os.listdir('./콘텐츠디자인')"
      ]
    },
    {
      "cell_type": "code",
      "execution_count": null,
      "id": "2dd650cb",
      "metadata": {
        "id": "2dd650cb"
      },
      "outputs": [],
      "source": [
        "mood_dict = dict({ '1' : '밝음',\n",
        "'2' : '어두움' ,\n",
        "'3' : '현대',\n",
        "'4' : '전통',\n",
        "'5' : '심플',\n",
        "'6' : '복잡',\n",
        "'7' : '따뜻',\n",
        "'8' : '시원',\n",
        "'9' : '부드러움',\n",
        "'10' : '거침',\n",
        "'11' : '럭셔리',\n",
        "'12' : '자연',\n",
        "'13' : '귀여움',\n",
        "'14' : '몽환' })"
      ]
    },
    {
      "cell_type": "code",
      "execution_count": null,
      "id": "57fc66ed",
      "metadata": {
        "id": "57fc66ed"
      },
      "outputs": [],
      "source": [
        "mood_num =list(mood_dict.keys())"
      ]
    },
    {
      "cell_type": "code",
      "execution_count": null,
      "id": "f8ecac6d",
      "metadata": {
        "id": "f8ecac6d"
      },
      "outputs": [],
      "source": [
        "for file_name in all_images:\n",
        "    image_path = './콘텐츠디자인/'+file_name\n",
        "#     img1 = cv2.imread(image_path)\n",
        "#     cv2.imshow('images', img1)\n",
        "    image_pil = Image.open(image_path)\n",
        "    image_bw = np.array(image_pil)\n",
        "    plt.imshow(image_bw)\n",
        "    plt.show()\n",
        "    #print(img1)\n",
        "    print('1 : 밝음',   '    2 : 어두움'    ,'  3 : 현대')\n",
        "    print('4 : 전통',  '    5 : 심플',   '    6 : 복잡')\n",
        "    print('7 : 따뜻',  '    8 : 시원',   '    9 : 부드러움')\n",
        "    print('10 : 거침',  '  11 : 럭셔리', '  12 : 자연')\n",
        "    print('13 : 귀여움', '  14 : 몽환 ')\n",
        "    N, M = input().split()\n",
        "    if (N not in mood_num) or (M not in mood_num):\n",
        "        print(\"범위 내의 숫자를 넣어주세요\")\n",
        "        N, M = input().split()\n",
        "    mood_1 = mood_dict[N]\n",
        "    mood_2 = mood_dict[M]\n",
        "    mood_1_folder = './content_mood/'+mood_1+'/'+file_name\n",
        "    mood_2_folder = './content_mood/'+mood_2+'/'+file_name\n",
        "    shutil.copyfile(image_path, mood_1_folder)\n",
        "    shutil.copyfile(image_path, mood_2_folder)"
      ]
    },
    {
      "cell_type": "code",
      "execution_count": null,
      "id": "22af1f67",
      "metadata": {
        "id": "22af1f67"
      },
      "outputs": [],
      "source": []
    }
  ],
  "metadata": {
    "kernelspec": {
      "display_name": "Python 3 (ipykernel)",
      "language": "python",
      "name": "python3"
    },
    "language_info": {
      "codemirror_mode": {
        "name": "ipython",
        "version": 3
      },
      "file_extension": ".py",
      "mimetype": "text/x-python",
      "name": "python",
      "nbconvert_exporter": "python",
      "pygments_lexer": "ipython3",
      "version": "3.8.5"
    },
    "colab": {
      "provenance": [],
      "include_colab_link": true
    }
  },
  "nbformat": 4,
  "nbformat_minor": 5
}